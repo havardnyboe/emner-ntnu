{
 "cells": [
  {
   "cell_type": "code",
   "execution_count": 200,
   "id": "05ea4f66-2eb4-495f-9d43-f908d9b8bdec",
   "metadata": {},
   "outputs": [
    {
     "name": "stdout",
     "output_type": "stream",
     "text": [
      "Requirement already satisfied: elasticsearch in /opt/conda/lib/python3.11/site-packages (8.10.1)\n",
      "Requirement already satisfied: elastic-transport<9,>=8 in /opt/conda/lib/python3.11/site-packages (from elasticsearch) (8.10.0)\n",
      "Requirement already satisfied: urllib3<3,>=1.26.2 in /opt/conda/lib/python3.11/site-packages (from elastic-transport<9,>=8->elasticsearch) (2.0.7)\n",
      "Requirement already satisfied: certifi in /opt/conda/lib/python3.11/site-packages (from elastic-transport<9,>=8->elasticsearch) (2023.7.22)\n"
     ]
    }
   ],
   "source": [
    "!pip install elasticsearch"
   ]
  },
  {
   "cell_type": "code",
   "execution_count": 201,
   "id": "6976255c-94a6-4011-a5ac-9f525e50b142",
   "metadata": {},
   "outputs": [
    {
     "name": "stdout",
     "output_type": "stream",
     "text": [
      "Requirement already satisfied: gdown in /opt/conda/lib/python3.11/site-packages (4.7.1)\n",
      "Requirement already satisfied: filelock in /opt/conda/lib/python3.11/site-packages (from gdown) (3.13.1)\n",
      "Requirement already satisfied: requests[socks] in /opt/conda/lib/python3.11/site-packages (from gdown) (2.31.0)\n",
      "Requirement already satisfied: six in /opt/conda/lib/python3.11/site-packages (from gdown) (1.16.0)\n",
      "Requirement already satisfied: tqdm in /opt/conda/lib/python3.11/site-packages (from gdown) (4.66.1)\n",
      "Requirement already satisfied: beautifulsoup4 in /opt/conda/lib/python3.11/site-packages (from gdown) (4.12.2)\n",
      "Requirement already satisfied: soupsieve>1.2 in /opt/conda/lib/python3.11/site-packages (from beautifulsoup4->gdown) (2.5)\n",
      "Requirement already satisfied: charset-normalizer<4,>=2 in /opt/conda/lib/python3.11/site-packages (from requests[socks]->gdown) (3.3.0)\n",
      "Requirement already satisfied: idna<4,>=2.5 in /opt/conda/lib/python3.11/site-packages (from requests[socks]->gdown) (3.4)\n",
      "Requirement already satisfied: urllib3<3,>=1.21.1 in /opt/conda/lib/python3.11/site-packages (from requests[socks]->gdown) (2.0.7)\n",
      "Requirement already satisfied: certifi>=2017.4.17 in /opt/conda/lib/python3.11/site-packages (from requests[socks]->gdown) (2023.7.22)\n",
      "Requirement already satisfied: PySocks!=1.5.7,>=1.5.6 in /opt/conda/lib/python3.11/site-packages (from requests[socks]->gdown) (1.7.1)\n"
     ]
    }
   ],
   "source": [
    "!pip install gdown"
   ]
  },
  {
   "cell_type": "markdown",
   "id": "0335521e-0866-4d4c-b460-501779bdbfd5",
   "metadata": {},
   "source": [
    "## Setting up the Elasticsearch"
   ]
  },
  {
   "cell_type": "code",
   "execution_count": 202,
   "id": "85059e35-63c5-459c-a6e9-af73ef07de66",
   "metadata": {},
   "outputs": [
    {
     "data": {
      "text/plain": [
       "ObjectApiResponse({'name': 'es-node', 'cluster_name': 'tdt4117-ir-data-cluster', 'cluster_uuid': 'rAkxpaFNSfypbZhfl9rXuA', 'version': {'number': '8.4.2', 'build_flavor': 'default', 'build_type': 'docker', 'build_hash': '89f8c6d8429db93b816403ee75e5c270b43a940a', 'build_date': '2022-09-14T16:26:04.382547801Z', 'build_snapshot': False, 'lucene_version': '9.3.0', 'minimum_wire_compatibility_version': '7.17.0', 'minimum_index_compatibility_version': '7.0.0'}, 'tagline': 'You Know, for Search'})"
      ]
     },
     "execution_count": 202,
     "metadata": {},
     "output_type": "execute_result"
    }
   ],
   "source": [
    "from datetime import datetime\n",
    "from elasticsearch import Elasticsearch\n",
    "\n",
    "ELASTIC_PASSWORD = \"p2iFCHUbC7ze1QoIMVw\"\n",
    "\n",
    "es = Elasticsearch(\"http://elasticsearch:9200\",\n",
    "                    basic_auth=(\"elastic\", ELASTIC_PASSWORD))\n",
    "\n",
    "es.info()"
   ]
  },
  {
   "cell_type": "markdown",
   "id": "e4ceb822-d6d1-43ba-b2e2-dfb31c297952",
   "metadata": {},
   "source": [
    "## Setting up the documents"
   ]
  },
  {
   "cell_type": "code",
   "execution_count": 203,
   "id": "bd2abdb4-a966-43de-bbc6-d32041c1f698",
   "metadata": {},
   "outputs": [
    {
     "data": {
      "text/plain": [
       "'\\nThe data is uploaded at a google drive directory, by running this code box, \\nthe data will be downloaded and you will have access to it at\\n(enron_short/maildir)\\n'"
      ]
     },
     "execution_count": 203,
     "metadata": {},
     "output_type": "execute_result"
    }
   ],
   "source": [
    "# Downloading the data\n",
    "\"\"\"\n",
    "The data is uploaded at a google drive directory, by running this code box, \n",
    "the data will be downloaded and you will have access to it at\n",
    "(enron_short/maildir)\n",
    "\"\"\"\n",
    "# import gdown\n",
    "\n",
    "# googleDriveURL = \"https://drive.google.com/file/d/10OwgK91e0lNRsrAV31sSJu7KJUujBTnE/view?usp=sharing\"\n",
    "# output = 'enron_short.tar.gz'\n",
    "# gdown.download(googleDriveURL, output, quiet=False, fuzzy=True)"
   ]
  },
  {
   "cell_type": "code",
   "execution_count": 204,
   "id": "28e9a89b-1b35-44ea-8b64-331b365f4acc",
   "metadata": {},
   "outputs": [],
   "source": [
    "# check if the directory exists\n",
    "from os import path\n",
    "\n",
    "zipfile_path = \"enron_short.tar.gz\"\n",
    "if not path.isfile(zipfile_path):\n",
    "    print(\"the zipfile is not here, please ensure you download it first.\")"
   ]
  },
  {
   "cell_type": "code",
   "execution_count": 205,
   "id": "616ed7b9-b2e4-46e7-9c2f-54679c3f9b8a",
   "metadata": {},
   "outputs": [],
   "source": [
    "!tar xf enron_short.tar.gz"
   ]
  },
  {
   "cell_type": "code",
   "execution_count": 206,
   "id": "747eb047-8aab-47c4-b244-ee73eb984930",
   "metadata": {},
   "outputs": [],
   "source": [
    "# check if the directory exists\n",
    "from os import path\n",
    "\n",
    "documents_path = r\"enron_short/maildir\"\n",
    "if not path.exists(documents_path):\n",
    "    print(\"the directory is not here, please ensure you have the documnets first.\")"
   ]
  },
  {
   "cell_type": "markdown",
   "id": "b2a4210f-ede3-476d-82e3-bad55c8c1b9b",
   "metadata": {},
   "source": [
    "## Your Code:"
   ]
  },
  {
   "cell_type": "code",
   "execution_count": 224,
   "id": "82ce99f5-6c1c-4bb2-81f2-a315331b007b",
   "metadata": {},
   "outputs": [
    {
     "name": "stderr",
     "output_type": "stream",
     "text": [
      "192821it [25:36, 125.48it/s]\n"
     ]
    },
    {
     "data": {
      "text/plain": [
       "ObjectApiResponse({'_index': 'index', '_id': '1', '_version': 1, '_seq_no': 0, '_primary_term': 1, '_ignored': ['content.keyword'], 'found': True, '_source': {'content': 'Message-ID: <1706910.1075842665022.JavaMail.evans@thyme>\\nDate: Wed, 16 Jun 1999 08:32:00 -0700 (PDT)\\nFrom: bieraugel@efortress.com\\nTo: gerald.nemec@enron.com\\nSubject: Catching up\\nMime-Version: 1.0\\nContent-Type: text/plain; charset=us-ascii\\nContent-Transfer-Encoding: 7bit\\nX-From: \"Paul Bieraugel\" <bieraugel@efortress.com>\\nX-To: Gerald Nemec\\nX-cc: \\nX-bcc: \\nX-Folder: \\\\Gerald_Nemec_Dec2000_June2001_1\\\\Notes Folders\\\\Personal\\nX-Origin: NEMEC-G\\nX-FileName: gnemec.nsf\\n\\nGerald,  good to hear from you and very belated congrats on your law\\ndegree/bar exam/ascent to layerhood deal.  That\\'s way cool.  Sounds like you\\nare really doing well out there.  Tool belts, house restoration, sounds like\\nfun.  Too bad the Navy won\\'t allow me the time to do it.   Regardless,\\nthey\\'ve been moving me around so much lately that it\\'s all pointless.  I got\\nback from Italy in Feb.  I started school here in Newport, RI.  Next I\\'l\\nspend 3 months in Northern VA going to school.  Then, I\\'ll meet my ship in\\nthe Persian Gulf for a fun filled 4 months in the Desert.  I\\'m getting\\npretty down on the Navy and may be considering a job change in the next two\\nyears.  Well, to answer your question, Michele and I have three kids now.\\nKelly is four, Carson is three, and Katherine (Kate) is two months (born\\n4/15/99).  I figure we\\'re done for now but will have to check back when Kate\\nis too big to cuddle.  Good to hear George and Ernie are still doing well.\\nCrazy days we had together.  Funny how we all tend to grow up eventually.\\nMy parents are fine.  They are almost finished with the house on the ranch.\\nWhen that is done, they plan to move out there permanently.  John is working\\nsemi-part time as a governemnt employee counting fish on alaskan fishing\\nboats.  Dangerous job/low pay.  But he likes it and he has his summers for\\nsurfing expeditions (i.e.  he is still bumming around).   Mark is the\\nbiggest suprise, he went back to school and got a Masters degree in library\\nscience and information technology.  He did really well and now has a job\\nwith Microsoft working as an archiver (apparently librarians and computer\\ngeeks too now).  Hey good to hear from you.   don\\'t know when/how we can\\nwork in a visit.  Possibly after March next year unless you\\'re out in San\\nDiego while Im in the Gulf and you can look Michele up.  Keep in touch and\\nwell work something out.  Take care Gerald.  Paul.'}})"
      ]
     },
     "execution_count": 224,
     "metadata": {},
     "output_type": "execute_result"
    }
   ],
   "source": [
    "# Index all emails folder enron_short/maildir\n",
    "es.indices.delete(index=\"index\", ignore_unavailable=True) # Delete the index if it exists\n",
    "# Create the index with mapping for email body\n",
    "es.indices.create(index='index', body={\n",
    "    \"mappings\": {\n",
    "        \"properties\": {\n",
    "            \"body\": {\n",
    "                \"type\": \"text\"\n",
    "            }\n",
    "        }\n",
    "    }\n",
    "})\n",
    "\n",
    "import os\n",
    "from tqdm import tqdm\n",
    "\n",
    "i = 1\n",
    "for root, dirs, files in tqdm(os.walk(documents_path)):\n",
    "    for file in files:\n",
    "        with open(os.path.join(root, file), \"r\", encoding=\"utf-8\", errors=\"ignore\") as f:\n",
    "            data = f.read()\n",
    "            es.index(index=\"index\", id=i, body={\"content\": data})\n",
    "            i += 1\n",
    "\n",
    "es.get(index=\"index\", id=1)"
   ]
  },
  {
   "cell_type": "code",
   "execution_count": 230,
   "id": "486d94b9",
   "metadata": {},
   "outputs": [],
   "source": [
    "def pretty_print(query, res):\n",
    "    print(\"Query: \", query)\n",
    "    print(\"Number of results: \", res[\"hits\"][\"total\"][\"value\"])\n",
    "    print(\"Results: \")\n",
    "    for hit in res[\"hits\"][\"hits\"]:\n",
    "        print(\"Score: \", hit[\"_score\"])\n",
    "        print(\"Content: \", hit[\"_source\"][\"content\"][:100] + \"...\")"
   ]
  },
  {
   "cell_type": "code",
   "execution_count": 234,
   "id": "e0a0ff0f-2711-46ad-8ec9-2bb422353b5f",
   "metadata": {},
   "outputs": [
    {
     "name": "stdout",
     "output_type": "stream",
     "text": [
      "Query:  Norwegian and University and Science and Technology\n",
      "Number of results:  10000\n",
      "Results: \n",
      "Score:  22.428768\n",
      "Content:  Message-ID: <21996921.1075855468318.JavaMail.evans@thyme>\n",
      "Date: Fri, 21 Dec 2001 04:43:38 -0800 (PST...\n",
      "Score:  22.428768\n",
      "Content:  Message-ID: <24164547.1075840774929.JavaMail.evans@thyme>\n",
      "Date: Fri, 21 Dec 2001 04:43:38 -0800 (PST...\n",
      "Score:  21.451519\n",
      "Content:  Message-ID: <33145748.1075855468410.JavaMail.evans@thyme>\n",
      "Date: Sun, 23 Dec 2001 14:45:10 -0800 (PST...\n",
      "Score:  21.451519\n",
      "Content:  Message-ID: <21179930.1075840774807.JavaMail.evans@thyme>\n",
      "Date: Sun, 23 Dec 2001 14:45:10 -0800 (PST...\n",
      "Score:  21.329004\n",
      "Content:  Message-ID: <24069195.1075846942557.JavaMail.evans@thyme>\n",
      "Date: Mon, 24 Apr 2000 11:26:00 -0700 (PDT...\n",
      "Score:  21.329004\n",
      "Content:  Message-ID: <9729632.1075847069332.JavaMail.evans@thyme>\n",
      "Date: Mon, 24 Apr 2000 11:26:00 -0700 (PDT)...\n",
      "Score:  21.329004\n",
      "Content:  Message-ID: <4007612.1075855889171.JavaMail.evans@thyme>\n",
      "Date: Mon, 24 Apr 2000 11:26:00 -0700 (PDT)...\n",
      "Score:  20.510086\n",
      "Content:  Message-ID: <17207457.1075840768406.JavaMail.evans@thyme>\n",
      "Date: Fri, 11 Jan 2002 02:15:10 -0800 (PST...\n",
      "Score:  20.136003\n",
      "Content:  Message-ID: <2414413.1075840790149.JavaMail.evans@thyme>\n",
      "Date: Fri, 18 Jan 2002 13:06:28 -0800 (PST)...\n",
      "Score:  18.675121\n",
      "Content:  Message-ID: <15334861.1075856302114.JavaMail.evans@thyme>\n",
      "Date: Mon, 7 Aug 2000 03:20:00 -0700 (PDT)...\n"
     ]
    }
   ],
   "source": [
    "# Query for \"Norwegian and University and Science and Technology” and \"Norwegian University Science Technology\"\n",
    "\n",
    "query = \"Norwegian and University and Science and Technology\"\n",
    "res = es.search(index=\"index\", body={\"query\": {\"match\": {\"content\": query}}})\n",
    "pretty_print(query, res)"
   ]
  },
  {
   "cell_type": "code",
   "execution_count": 233,
   "id": "a545c678-aa0f-4e8b-b8d3-a0ecd6c4e802",
   "metadata": {},
   "outputs": [
    {
     "name": "stdout",
     "output_type": "stream",
     "text": [
      "Query:  Norwegian University Science Technology\n",
      "Number of results:  9744\n",
      "Results: \n",
      "Score:  20.404533\n",
      "Content:  Message-ID: <21996921.1075855468318.JavaMail.evans@thyme>\n",
      "Date: Fri, 21 Dec 2001 04:43:38 -0800 (PST...\n",
      "Score:  20.404533\n",
      "Content:  Message-ID: <24164547.1075840774929.JavaMail.evans@thyme>\n",
      "Date: Fri, 21 Dec 2001 04:43:38 -0800 (PST...\n",
      "Score:  19.514381\n",
      "Content:  Message-ID: <33145748.1075855468410.JavaMail.evans@thyme>\n",
      "Date: Sun, 23 Dec 2001 14:45:10 -0800 (PST...\n",
      "Score:  19.514381\n",
      "Content:  Message-ID: <21179930.1075840774807.JavaMail.evans@thyme>\n",
      "Date: Sun, 23 Dec 2001 14:45:10 -0800 (PST...\n",
      "Score:  18.755571\n",
      "Content:  Message-ID: <24069195.1075846942557.JavaMail.evans@thyme>\n",
      "Date: Mon, 24 Apr 2000 11:26:00 -0700 (PDT...\n",
      "Score:  18.755571\n",
      "Content:  Message-ID: <9729632.1075847069332.JavaMail.evans@thyme>\n",
      "Date: Mon, 24 Apr 2000 11:26:00 -0700 (PDT)...\n",
      "Score:  18.755571\n",
      "Content:  Message-ID: <4007612.1075855889171.JavaMail.evans@thyme>\n",
      "Date: Mon, 24 Apr 2000 11:26:00 -0700 (PDT)...\n",
      "Score:  18.455051\n",
      "Content:  Message-ID: <17207457.1075840768406.JavaMail.evans@thyme>\n",
      "Date: Fri, 11 Jan 2002 02:15:10 -0800 (PST...\n",
      "Score:  18.111769\n",
      "Content:  Message-ID: <2414413.1075840790149.JavaMail.evans@thyme>\n",
      "Date: Fri, 18 Jan 2002 13:06:28 -0800 (PST)...\n",
      "Score:  16.287764\n",
      "Content:  Message-ID: <15334861.1075856302114.JavaMail.evans@thyme>\n",
      "Date: Mon, 7 Aug 2000 03:20:00 -0700 (PDT)...\n"
     ]
    }
   ],
   "source": [
    "query = \"Norwegian University Science Technology\"\n",
    "res = es.search(index=\"index\", body={\"query\": {\"match\": {\"content\": query}}})\n",
    "pretty_print(query, res)"
   ]
  }
 ],
 "metadata": {
  "kernelspec": {
   "display_name": "Python 3 (ipykernel)",
   "language": "python",
   "name": "python3"
  },
  "language_info": {
   "codemirror_mode": {
    "name": "ipython",
    "version": 3
   },
   "file_extension": ".py",
   "mimetype": "text/x-python",
   "name": "python",
   "nbconvert_exporter": "python",
   "pygments_lexer": "ipython3",
   "version": "3.11.6"
  }
 },
 "nbformat": 4,
 "nbformat_minor": 5
}
