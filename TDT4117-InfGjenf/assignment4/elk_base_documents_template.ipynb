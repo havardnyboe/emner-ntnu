{
 "cells": [
  {
   "cell_type": "code",
   "execution_count": 142,
   "id": "73722595-d5ca-4373-add0-b28e411a12ff",
   "metadata": {},
   "outputs": [
    {
     "name": "stdout",
     "output_type": "stream",
     "text": [
      "Requirement already satisfied: elasticsearch in /opt/conda/lib/python3.11/site-packages (8.10.1)\n",
      "Requirement already satisfied: elastic-transport<9,>=8 in /opt/conda/lib/python3.11/site-packages (from elasticsearch) (8.10.0)\n",
      "Requirement already satisfied: urllib3<3,>=1.26.2 in /opt/conda/lib/python3.11/site-packages (from elastic-transport<9,>=8->elasticsearch) (2.0.7)\n",
      "Requirement already satisfied: certifi in /opt/conda/lib/python3.11/site-packages (from elastic-transport<9,>=8->elasticsearch) (2023.7.22)\n"
     ]
    }
   ],
   "source": [
    "!pip install elasticsearch"
   ]
  },
  {
   "cell_type": "code",
   "execution_count": 143,
   "id": "63ca2200-e0ce-4af8-bdfb-9532b17b5cc1",
   "metadata": {},
   "outputs": [
    {
     "data": {
      "text/plain": [
       "ObjectApiResponse({'name': 'es-node', 'cluster_name': 'tdt4117-ir-data-cluster', 'cluster_uuid': 'rAkxpaFNSfypbZhfl9rXuA', 'version': {'number': '8.4.2', 'build_flavor': 'default', 'build_type': 'docker', 'build_hash': '89f8c6d8429db93b816403ee75e5c270b43a940a', 'build_date': '2022-09-14T16:26:04.382547801Z', 'build_snapshot': False, 'lucene_version': '9.3.0', 'minimum_wire_compatibility_version': '7.17.0', 'minimum_index_compatibility_version': '7.0.0'}, 'tagline': 'You Know, for Search'})"
      ]
     },
     "execution_count": 143,
     "metadata": {},
     "output_type": "execute_result"
    }
   ],
   "source": [
    "from datetime import datetime\n",
    "from elasticsearch import Elasticsearch\n",
    "\n",
    "ELASTIC_PASSWORD = \"p2iFCHUbC7ze1QoIMVw\"\n",
    "\n",
    "es = Elasticsearch(\"http://elasticsearch:9200\",\n",
    "                    basic_auth=(\"elastic\", ELASTIC_PASSWORD))\n",
    "\n",
    "es.info()"
   ]
  },
  {
   "cell_type": "code",
   "execution_count": 144,
   "id": "93d40d0c-9401-41ab-85ba-01ffba121098",
   "metadata": {},
   "outputs": [
    {
     "name": "stdout",
     "output_type": "stream",
     "text": [
      "['Text1.txt', 'Text2.txt', 'Text3.txt', 'Text4.txt', 'Text5.txt', 'Text6.txt']\n"
     ]
    }
   ],
   "source": [
    "# TODO import documents into elastic\n",
    "import os\n",
    "\n",
    "es.indices.delete(index=\"index\", ignore_unavailable=True) # Delete the index if it exists\n",
    "\n",
    "# Create the index\n",
    "es.indices.create(index='index')\n",
    "\n",
    "collection = []\n",
    "files = sorted(os.listdir(\"DataAssignment4\"))\n",
    "print(files)\n",
    "corpus = []\n",
    "for file in files:\n",
    "    with open(\"DataAssignment4/\" + file, \"r\") as f:\n",
    "        corpus.append({\"title\": file, \"content\": f.read()})\n",
    "\n",
    "# Index the documents\n",
    "for i, doc in enumerate(corpus):\n",
    "    es.index(index=\"index\", id=i, body=doc)"
   ]
  },
  {
   "cell_type": "code",
   "execution_count": 151,
   "id": "fb44d674",
   "metadata": {},
   "outputs": [],
   "source": [
    "def pretty_print(query, res):\n",
    "    print(\"Query: \", query)\n",
    "    print(\"Number of results: \", res[\"hits\"][\"total\"][\"value\"])\n",
    "    print(\"Results: \")\n",
    "    for hit in res[\"hits\"][\"hits\"]:\n",
    "        print(\"Score: \", hit[\"_score\"])\n",
    "        print(\"Title: \", hit[\"_source\"][\"title\"])\n",
    "        print(\"Content: \", hit[\"_source\"][\"content\"][:100] + \"...\")"
   ]
  },
  {
   "cell_type": "code",
   "execution_count": 152,
   "id": "b137d904-a317-445f-b425-acecff90d027",
   "metadata": {},
   "outputs": [
    {
     "name": "stdout",
     "output_type": "stream",
     "text": [
      "Query:  claim\n",
      "Number of results:  1\n",
      "Results: \n",
      "Score:  1.5510131\n",
      "Title:  Text2.txt\n",
      "Content:  One morning, when Gregor Samsa woke from troubled dreams, he found himself transformed in his bed in...\n"
     ]
    }
   ],
   "source": [
    "# TODO Query \"claim\"\n",
    "query = \"claim\"\n",
    "res = es.search(index=\"index\", query={\"match\": {\"content\": query}})\n",
    "pretty_print(query, res)"
   ]
  },
  {
   "cell_type": "code",
   "execution_count": 153,
   "id": "11541753-dd90-4839-bea9-2430e7442779",
   "metadata": {},
   "outputs": [
    {
     "name": "stdout",
     "output_type": "stream",
     "text": [
      "Query:  claim*\n",
      "Number of results:  2\n",
      "Results: \n",
      "Score:  1.0\n",
      "Title:  Text2.txt\n",
      "Content:  One morning, when Gregor Samsa woke from troubled dreams, he found himself transformed in his bed in...\n",
      "Score:  1.0\n",
      "Title:  Text6.txt\n",
      "Content:  But I must explain to you how all this mistaken idea of denouncing pleasure and praising pain was bo...\n"
     ]
    }
   ],
   "source": [
    "# TODO Query \"claim*\" (wildcard)\n",
    "query = \"claim*\"\n",
    "res = es.search(index=\"index\", query={\"wildcard\": {\"content\": query}})\n",
    "pretty_print(query, res)"
   ]
  },
  {
   "cell_type": "code",
   "execution_count": 154,
   "id": "cfd121de-1c98-458e-8e71-83109d92f147",
   "metadata": {},
   "outputs": [
    {
     "name": "stdout",
     "output_type": "stream",
     "text": [
      "Query:  claims of duty\n",
      "Number of results:  1\n",
      "Results: \n",
      "Score:  4.975612\n",
      "Title:  Text6.txt\n",
      "Content:  But I must explain to you how all this mistaken idea of denouncing pleasure and praising pain was bo...\n"
     ]
    }
   ],
   "source": [
    "# TODO Query \"claims of duty\"\n",
    "query = \"claims of duty\"\n",
    "res = es.search(index=\"index\", query={\"match_phrase\": {\"content\": query}})\n",
    "pretty_print(query, res)"
   ]
  },
  {
   "cell_type": "code",
   "execution_count": 158,
   "id": "468012a9-b81e-4e5f-b383-90d8d5ac60d5",
   "metadata": {},
   "outputs": [
    {
     "name": "stdout",
     "output_type": "stream",
     "text": [
      "Query:  claims of duty\n",
      "Number of results:  6\n",
      "Results: \n",
      "Score:  5.417975\n",
      "Title:  Text6.txt\n",
      "Content:  But I must explain to you how all this mistaken idea of denouncing pleasure and praising pain was bo...\n",
      "Score:  0.1597732\n",
      "Title:  Text1.txt\n",
      "Content:  A wonderful serenity has taken possession of my entire soul, like these sweet mornings of spring whi...\n",
      "Score:  0.15703472\n",
      "Title:  Text4.txt\n",
      "Content:  Far far away, behind the word mountains, far from the countries Vokalia and Consonantia, there live ...\n",
      "Score:  0.15641768\n",
      "Title:  Text5.txt\n",
      "Content:  The European languages are members of the same family. Their separate existence is a myth. For scien...\n",
      "Score:  0.15391785\n",
      "Title:  Text2.txt\n",
      "Content:  One morning, when Gregor Samsa woke from troubled dreams, he found himself transformed in his bed in...\n",
      "Score:  0.14406839\n",
      "Title:  Text3.txt\n",
      "Content:  The quick, brown fox jumps over a lazy dog. DJs flock by when MTV ax quiz prog. Junk MTV quiz graced...\n"
     ]
    }
   ],
   "source": [
    "# TODO Query \"claims of duty\" in an alternative way\n",
    "query = \"claims of duty\"\n",
    "res = es.search(index=\"index\", query={\"match\": {\"content\": query}})\n",
    "pretty_print(query, res)"
   ]
  }
 ],
 "metadata": {
  "kernelspec": {
   "display_name": "Python 3 (ipykernel)",
   "language": "python",
   "name": "python3"
  },
  "language_info": {
   "codemirror_mode": {
    "name": "ipython",
    "version": 3
   },
   "file_extension": ".py",
   "mimetype": "text/x-python",
   "name": "python",
   "nbconvert_exporter": "python",
   "pygments_lexer": "ipython3",
   "version": "3.11.6"
  }
 },
 "nbformat": 4,
 "nbformat_minor": 5
}
