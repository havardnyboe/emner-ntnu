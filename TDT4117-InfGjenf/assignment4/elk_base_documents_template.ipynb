{
 "cells": [
  {
   "cell_type": "code",
   "execution_count": null,
   "id": "73722595-d5ca-4373-add0-b28e411a12ff",
   "metadata": {},
   "outputs": [],
   "source": [
    "!pip install elasticsearch"
   ]
  },
  {
   "cell_type": "code",
   "execution_count": null,
   "id": "63ca2200-e0ce-4af8-bdfb-9532b17b5cc1",
   "metadata": {},
   "outputs": [],
   "source": [
    "from datetime import datetime\n",
    "from elasticsearch import Elasticsearch\n",
    "\n",
    "ELASTIC_PASSWORD = \"p2iFCHUbC7ze1QoIMVw\"\n",
    "\n",
    "es = Elasticsearch(\"http://elasticsearch:9200\",\n",
    "                    basic_auth=(\"elastic\", ELASTIC_PASSWORD))\n",
    "\n",
    "es.info()"
   ]
  },
  {
   "cell_type": "code",
   "execution_count": null,
   "id": "93d40d0c-9401-41ab-85ba-01ffba121098",
   "metadata": {},
   "outputs": [],
   "source": [
    "# TODO import documents into elastic"
   ]
  },
  {
   "cell_type": "code",
   "execution_count": null,
   "id": "b137d904-a317-445f-b425-acecff90d027",
   "metadata": {},
   "outputs": [],
   "source": [
    "# TODO Query \"claim\""
   ]
  },
  {
   "cell_type": "code",
   "execution_count": null,
   "id": "11541753-dd90-4839-bea9-2430e7442779",
   "metadata": {},
   "outputs": [],
   "source": [
    "# TODO Query \"claim*\""
   ]
  },
  {
   "cell_type": "code",
   "execution_count": null,
   "id": "cfd121de-1c98-458e-8e71-83109d92f147",
   "metadata": {},
   "outputs": [],
   "source": [
    "# TODO Query \"claims of duty\""
   ]
  },
  {
   "cell_type": "code",
   "execution_count": null,
   "id": "468012a9-b81e-4e5f-b383-90d8d5ac60d5",
   "metadata": {},
   "outputs": [],
   "source": [
    "# TODO Query \"claims of duty\" in an alternative way"
   ]
  }
 ],
 "metadata": {
  "kernelspec": {
   "display_name": "Python 3 (ipykernel)",
   "language": "python",
   "name": "python3"
  },
  "language_info": {
   "codemirror_mode": {
    "name": "ipython",
    "version": 3
   },
   "file_extension": ".py",
   "mimetype": "text/x-python",
   "name": "python",
   "nbconvert_exporter": "python",
   "pygments_lexer": "ipython3",
   "version": "3.11.6"
  }
 },
 "nbformat": 4,
 "nbformat_minor": 5
}
